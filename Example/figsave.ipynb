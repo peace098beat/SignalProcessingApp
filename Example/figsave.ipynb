{
 "worksheets": [
  {
   "cells": [
    {
     "cell_type": "markdown",
     "metadata": {},
     "source": [
      "## maplotlib: figureの保存"
     ]
    },
    {
     "cell_type": "code",
     "execution_count": null,
     "metadata": {},
     "outputs": [],
     "input": [
      "%matplotlib inline\n",
      "import numpy as np\n",
      "import matplotlib.pyplot as plt"
     ],
     "language": "python",
     "prompt_number": 19
    },
    {
     "cell_type": "code",
     "execution_count": null,
     "metadata": {},
     "outputs": [],
     "input": [
      "Nx = 100\n",
      "Ny = 100\n",
      "X = np.linspace(0,1,Nx)\n",
      "Y = np.sin(2*np.pi*100*X)"
     ],
     "language": "python",
     "prompt_number": 20
    },
    {
     "cell_type": "code",
     "execution_count": null,
     "metadata": {},
     "outputs": [
      {
       "metadata": {}
      }
     ],
     "input": [
      "fig1 = plt.figure()"
     ],
     "language": "python",
     "prompt_number": 21
    },
    {
     "cell_type": "code",
     "execution_count": null,
     "metadata": {},
     "outputs": [
      {
       "output_type": "pyout",
       "prompt_number": 31,
       "text": [
        "<matplotlib.axes._subplots.AxesSubplot at 0x1120376d0>"
       ],
       "metadata": {}
      }
     ],
     "input": [
      "ax1 = fig1.add_subplot(111)"
     ],
     "language": "python",
     "prompt_number": 31
    },
    {
     "cell_type": "code",
     "execution_count": null,
     "metadata": {},
     "outputs": [
      {
       "output_type": "pyout",
       "prompt_number": 42,
       "text": [
        "[<matplotlib.lines.Line2D at 0x1121f8810>]"
       ],
       "metadata": {}
      }
     ],
     "input": [
      "ax1.plot(X,Y)"
     ],
     "language": "python",
     "prompt_number": 42
    },
    {
     "cell_type": "code",
     "execution_count": null,
     "metadata": {},
     "outputs": [],
     "input": [
      "fig1.savefig('myfig2.png')"
     ],
     "language": "python",
     "prompt_number": 43
    },
    {
     "cell_type": "code",
     "execution_count": null,
     "metadata": {},
     "outputs": [],
     "input": [
      "fig1.show()"
     ],
     "language": "python",
     "prompt_number": 44
    },
    {
     "cell_type": "code",
     "execution_count": null,
     "metadata": {},
     "outputs": [
      {
       "ename": "NameError",
       "evalue": "name 'mpimg' is not defined",
       "output_type": "pyerr",
       "traceback": [
        "\u001b[0;31m---------------------------------------------------------------------------\u001b[0m\n\u001b[0;31mNameError\u001b[0m                                 Traceback (most recent call last)",
        "\u001b[0;32m<ipython-input-45-0a011290d74e>\u001b[0m in \u001b[0;36m<module>\u001b[0;34m()\u001b[0m\n\u001b[0;32m----> 1\u001b[0;31m \u001b[0mimg\u001b[0m\u001b[0;34m=\u001b[0m\u001b[0mmpimg\u001b[0m\u001b[0;34m.\u001b[0m\u001b[0mimread\u001b[0m\u001b[0;34m(\u001b[0m\u001b[0;34m'myfig2.png'\u001b[0m\u001b[0;34m)\u001b[0m\u001b[0;34m\u001b[0m\u001b[0m\n\u001b[0m",
        "\u001b[0;31mNameError\u001b[0m: name 'mpimg' is not defined"
       ]
      }
     ],
     "input": [
      "img=mpimg.imread('myfig2.png')"
     ],
     "language": "python",
     "prompt_number": 45
    },
    {
     "cell_type": "code",
     "execution_count": null,
     "metadata": {},
     "outputs": [],
     "input": [
      "import matplotlib.image as mpimg"
     ],
     "language": "python",
     "prompt_number": 46
    },
    {
     "cell_type": "code",
     "execution_count": null,
     "metadata": {},
     "outputs": [],
     "input": [
      "img=mpimg.imread('myfig2.png')"
     ],
     "language": "python",
     "prompt_number": 47
    },
    {
     "cell_type": "code",
     "execution_count": null,
     "metadata": {},
     "outputs": [
      {
       "output_type": "pyout",
       "prompt_number": 48,
       "text": [
        "array([[[ 1.,  1.,  1.,  1.],\n",
        "        [ 1.,  1.,  1.,  1.],\n",
        "        [ 1.,  1.,  1.,  1.],\n",
        "        ..., \n",
        "        [ 1.,  1.,  1.,  1.],\n",
        "        [ 1.,  1.,  1.,  1.],\n",
        "        [ 1.,  1.,  1.,  1.]],\n",
        "\n",
        "       [[ 1.,  1.,  1.,  1.],\n",
        "        [ 1.,  1.,  1.,  1.],\n",
        "        [ 1.,  1.,  1.,  1.],\n",
        "        ..., \n",
        "        [ 1.,  1.,  1.,  1.],\n",
        "        [ 1.,  1.,  1.,  1.],\n",
        "        [ 1.,  1.,  1.,  1.]],\n",
        "\n",
        "       [[ 1.,  1.,  1.,  1.],\n",
        "        [ 1.,  1.,  1.,  1.],\n",
        "        [ 1.,  1.,  1.,  1.],\n",
        "        ..., \n",
        "        [ 1.,  1.,  1.,  1.],\n",
        "        [ 1.,  1.,  1.,  1.],\n",
        "        [ 1.,  1.,  1.,  1.]],\n",
        "\n",
        "       ..., \n",
        "       [[ 1.,  1.,  1.,  1.],\n",
        "        [ 1.,  1.,  1.,  1.],\n",
        "        [ 1.,  1.,  1.,  1.],\n",
        "        ..., \n",
        "        [ 1.,  1.,  1.,  1.],\n",
        "        [ 1.,  1.,  1.,  1.],\n",
        "        [ 1.,  1.,  1.,  1.]],\n",
        "\n",
        "       [[ 1.,  1.,  1.,  1.],\n",
        "        [ 1.,  1.,  1.,  1.],\n",
        "        [ 1.,  1.,  1.,  1.],\n",
        "        ..., \n",
        "        [ 1.,  1.,  1.,  1.],\n",
        "        [ 1.,  1.,  1.,  1.],\n",
        "        [ 1.,  1.,  1.,  1.]],\n",
        "\n",
        "       [[ 1.,  1.,  1.,  1.],\n",
        "        [ 1.,  1.,  1.,  1.],\n",
        "        [ 1.,  1.,  1.,  1.],\n",
        "        ..., \n",
        "        [ 1.,  1.,  1.,  1.],\n",
        "        [ 1.,  1.,  1.,  1.],\n",
        "        [ 1.,  1.,  1.,  1.]]], dtype=float32)"
       ],
       "metadata": {}
      }
     ],
     "input": [
      "img"
     ],
     "language": "python",
     "prompt_number": 48
    },
    {
     "cell_type": "code",
     "execution_count": null,
     "metadata": {},
     "outputs": [
      {
       "output_type": "display_data",
       "png": "[encoded data removed]",
       "text": [
        "<matplotlib.figure.Figure at 0x1134144d0>"
       ],
       "metadata": {}
      }
     ],
     "input": [
      "fig2 = plt.figure()\n",
      "ax21 = fig2.add_subplot(121)\n",
      "ax22 = fig2.add_subplot(122)\n",
      "imgplot = ax21.imshow(img)"
     ],
     "language": "python",
     "prompt_number": 69
    },
    {
     "cell_type": "code",
     "execution_count": null,
     "metadata": {},
     "outputs": [],
     "input": [
      "lum_img = img[:,:,0]"
     ],
     "language": "python",
     "prompt_number": 70
    },
    {
     "cell_type": "code",
     "execution_count": null,
     "metadata": {},
     "outputs": [],
     "input": [
      "imgplot=ax22.imshow(lum_img)"
     ],
     "language": "python",
     "prompt_number": 71
    },
    {
     "cell_type": "code",
     "execution_count": null,
     "metadata": {},
     "outputs": [],
     "input": [
      "imgplot.set_cmap('hot')"
     ],
     "language": "python",
     "prompt_number": 72
    },
    {
     "cell_type": "code",
     "execution_count": null,
     "metadata": {},
     "outputs": [
      {
       "output_type": "display_data",
       "png": "[encoded data removed]",
       "text": [
        "<matplotlib.figure.Figure at 0x1134144d0>"
       ],
       "metadata": {}
      }
     ],
     "input": [
      "fig2"
     ],
     "language": "python",
     "prompt_number": 76
    },
    {
     "cell_type": "code",
     "execution_count": null,
     "metadata": {},
     "outputs": [
      {
       "ename": "RuntimeError",
       "evalue": "No mappable was found to use for colorbar creation. First define a mappable such as an image (with imshow) or a contour set (with contourf).",
       "output_type": "pyerr",
       "traceback": [
        "\u001b[0;31m---------------------------------------------------------------------------\u001b[0m\n\u001b[0;31mRuntimeError\u001b[0m                              Traceback (most recent call last)",
        "\u001b[0;32m<ipython-input-77-194bafcd0567>\u001b[0m in \u001b[0;36m<module>\u001b[0;34m()\u001b[0m\n\u001b[0;32m----> 1\u001b[0;31m \u001b[0mplt\u001b[0m\u001b[0;34m.\u001b[0m\u001b[0mcolorbar\u001b[0m\u001b[0;34m(\u001b[0m\u001b[0;34m)\u001b[0m\u001b[0;34m\u001b[0m\u001b[0m\n\u001b[0m",
        "\u001b[0;32m/usr/local/lib/python2.7/site-packages/matplotlib/pyplot.pyc\u001b[0m in \u001b[0;36mcolorbar\u001b[0;34m(mappable, cax, ax, **kw)\u001b[0m\n\u001b[1;32m   2150\u001b[0m         \u001b[0mmappable\u001b[0m \u001b[0;34m=\u001b[0m \u001b[0mgci\u001b[0m\u001b[0;34m(\u001b[0m\u001b[0;34m)\u001b[0m\u001b[0;34m\u001b[0m\u001b[0m\n\u001b[1;32m   2151\u001b[0m         \u001b[0;32mif\u001b[0m \u001b[0mmappable\u001b[0m \u001b[0;32mis\u001b[0m \u001b[0mNone\u001b[0m\u001b[0;34m:\u001b[0m\u001b[0;34m\u001b[0m\u001b[0m\n\u001b[0;32m-> 2152\u001b[0;31m             raise RuntimeError('No mappable was found to use for colorbar '\n\u001b[0m\u001b[1;32m   2153\u001b[0m                                \u001b[0;34m'creation. First define a mappable such as '\u001b[0m\u001b[0;34m\u001b[0m\u001b[0m\n\u001b[1;32m   2154\u001b[0m                                \u001b[0;34m'an image (with imshow) or a contour set ('\u001b[0m\u001b[0;34m\u001b[0m\u001b[0m\n",
        "\u001b[0;31mRuntimeError\u001b[0m: No mappable was found to use for colorbar creation. First define a mappable such as an image (with imshow) or a contour set (with contourf)."
       ]
      },
      {
       "metadata": {}
      }
     ],
     "input": [
      "plt.colorbar()"
     ],
     "language": "python",
     "prompt_number": 77
    },
    {
     "cell_type": "code",
     "execution_count": null,
     "metadata": {},
     "outputs": [
      {
       "output_type": "pyout",
       "prompt_number": 79,
       "text": [
        "(array([  1.11600000e+03,   0.00000000e+00,   1.00000000e+00,\n",
        "          1.00000000e+00,   0.00000000e+00,   2.00000000e+00,\n",
        "          0.00000000e+00,   0.00000000e+00,   1.00000000e+00,\n",
        "          0.00000000e+00,   1.00000000e+00,   3.00000000e+00,\n",
        "          3.00000000e+00,   9.00000000e+00,   4.10000000e+01,\n",
        "          2.50000000e+01,   3.00000000e+01,   8.00000000e+00,\n",
        "          1.10000000e+01,   1.70000000e+01,   7.00000000e+00,\n",
        "          1.30000000e+01,   1.00000000e+01,   9.00000000e+00,\n",
        "          7.00000000e+00,   8.00000000e+00,   1.10000000e+01,\n",
        "          3.00000000e+00,   7.00000000e+00,   1.60000000e+01,\n",
        "          5.00000000e+00,   7.00000000e+00,   1.00000000e+01,\n",
        "          8.00000000e+00,   1.40000000e+01,   3.20000000e+01,\n",
        "          2.20000000e+01,   1.30000000e+01,   9.00000000e+00,\n",
        "          3.10000000e+01,   9.00000000e+00,   4.00000000e+00,\n",
        "          9.00000000e+00,   1.20000000e+01,   3.10000000e+01,\n",
        "          7.00000000e+00,   1.50000000e+01,   3.10000000e+01,\n",
        "          1.10000000e+01,   4.00000000e+00,   1.10000000e+01,\n",
        "          5.00000000e+00,   8.00000000e+00,   4.00000000e+00,\n",
        "          9.00000000e+00,   1.20000000e+01,   9.00000000e+00,\n",
        "          7.00000000e+00,   1.20000000e+01,   2.00000000e+00,\n",
        "          9.00000000e+00,   6.00000000e+00,   7.00000000e+00,\n",
        "          4.00000000e+00,   1.40000000e+01,   9.00000000e+00,\n",
        "          1.00000000e+01,   2.30000000e+01,   1.20000000e+01,\n",
        "          1.10000000e+01,   4.00000000e+00,   2.30000000e+01,\n",
        "          1.40000000e+01,   1.40000000e+01,   8.00000000e+00,\n",
        "          9.00000000e+00,   1.50000000e+01,   1.70000000e+01,\n",
        "          1.10000000e+01,   4.00000000e+00,   8.00000000e+00,\n",
        "          1.40000000e+01,   1.10000000e+01,   0.00000000e+00,\n",
        "          1.20000000e+01,   5.00000000e+00,   9.00000000e+00,\n",
        "          2.00000000e+00,   1.30000000e+01,   2.00000000e+00,\n",
        "          7.00000000e+00,   9.00000000e+00,   7.00000000e+00,\n",
        "          1.30000000e+01,   1.60000000e+01,   5.00000000e+00,\n",
        "          1.40000000e+01,   1.00000000e+01,   1.00000000e+00,\n",
        "          1.40000000e+01,   1.80000000e+01,   1.20000000e+01,\n",
        "          3.00000000e+00,   1.50000000e+01,   3.00000000e+00,\n",
        "          6.00000000e+00,   1.00000000e+01,   1.80000000e+01,\n",
        "          1.60000000e+01,   1.20000000e+01,   2.00000000e+00,\n",
        "          4.00000000e+00,   1.00000000e+01,   1.00000000e+00,\n",
        "          6.00000000e+00,   3.00000000e+00,   7.00000000e+00,\n",
        "          1.00000000e+01,   2.00000000e+00,   4.00000000e+00,\n",
        "          6.00000000e+00,   4.00000000e+00,   4.00000000e+00,\n",
        "          3.00000000e+00,   4.00000000e+00,   5.00000000e+00,\n",
        "          2.00000000e+00,   4.20000000e+01,   4.00000000e+00,\n",
        "          7.00000000e+00,   7.00000000e+00,   7.00000000e+00,\n",
        "          3.00000000e+00,   0.00000000e+00,   2.10000000e+01,\n",
        "          2.30000000e+01,   2.20000000e+01,   1.00000000e+00,\n",
        "          9.00000000e+00,   2.00000000e+00,   1.00000000e+00,\n",
        "          1.00000000e+00,   5.00000000e+00,   1.00000000e+00,\n",
        "          8.00000000e+00,   8.00000000e+00,   0.00000000e+00,\n",
        "          6.00000000e+00,   1.00000000e+00,   6.00000000e+00,\n",
        "          7.00000000e+00,   0.00000000e+00,   2.50000000e+01,\n",
        "          0.00000000e+00,   1.20000000e+01,   8.00000000e+00,\n",
        "          0.00000000e+00,   2.00000000e+00,   4.00000000e+00,\n",
        "          1.00000000e+00,   9.00000000e+00,   0.00000000e+00,\n",
        "          6.00000000e+00,   2.40000000e+01,   1.00000000e+00,\n",
        "          4.00000000e+00,   0.00000000e+00,   4.00000000e+00,\n",
        "          1.30000000e+01,   0.00000000e+00,   1.00000000e+00,\n",
        "          1.80000000e+01,   1.10000000e+01,   1.00000000e+01,\n",
        "          6.00000000e+00,   0.00000000e+00,   0.00000000e+00,\n",
        "          1.20000000e+01,   1.00000000e+00,   0.00000000e+00,\n",
        "          8.00000000e+00,   8.00000000e+00,   1.00000000e+01,\n",
        "          1.20000000e+01,   0.00000000e+00,   1.00000000e+00,\n",
        "          1.20000000e+01,   0.00000000e+00,   9.00000000e+00,\n",
        "          0.00000000e+00,   1.00000000e+00,   2.70000000e+01,\n",
        "          1.00000000e+00,   1.20000000e+01,   3.00000000e+00,\n",
        "          8.00000000e+00,   5.00000000e+00,   4.00000000e+00,\n",
        "          9.00000000e+00,   2.10000000e+01,   5.00000000e+00,\n",
        "          1.00000000e+00,   1.00000000e+00,   1.10000000e+01,\n",
        "          5.00000000e+00,   1.40000000e+01,   1.30000000e+01,\n",
        "          0.00000000e+00,   9.00000000e+00,   2.00000000e+00,\n",
        "          0.00000000e+00,   0.00000000e+00,   1.00000000e+01,\n",
        "          2.00000000e+00,   1.60000000e+01,   2.00000000e+00,\n",
        "          1.00000000e+01,   1.00000000e+00,   1.00000000e+00,\n",
        "          1.10000000e+01,   1.00000000e+00,   2.00000000e+00,\n",
        "          0.00000000e+00,   3.70000000e+01,   0.00000000e+00,\n",
        "          1.00000000e+00,   0.00000000e+00,   1.20000000e+01,\n",
        "          1.00000000e+00,   2.00000000e+00,   2.00000000e+00,\n",
        "          2.00000000e+00,   1.10000000e+01,   1.40000000e+01,\n",
        "          1.00000000e+00,   4.00000000e+00,   2.00000000e+00,\n",
        "          2.30000000e+01,   2.00000000e+00,   3.00000000e+00,\n",
        "          1.00000000e+00,   2.10000000e+01,   3.00000000e+00,\n",
        "          0.00000000e+00,   1.00000000e+00,   3.10000000e+01,\n",
        "          1.00000000e+00,   0.00000000e+00,   0.00000000e+00,\n",
        "          6.60000000e+01,   8.00000000e+00,   9.00000000e+00,\n",
        "          1.00000000e+01,   1.00000000e+00,   3.00000000e+00,\n",
        "          1.21203000e+05]),\n",
        " array([ 0.        ,  0.00390625,  0.0078125 ,  0.01171875,  0.015625  ,\n",
        "         0.01953125,  0.0234375 ,  0.02734375,  0.03125   ,  0.03515625,\n",
        "         0.0390625 ,  0.04296875,  0.046875  ,  0.05078125,  0.0546875 ,\n",
        "         0.05859375,  0.0625    ,  0.06640625,  0.0703125 ,  0.07421875,\n",
        "         0.078125  ,  0.08203125,  0.0859375 ,  0.08984375,  0.09375   ,\n",
        "         0.09765625,  0.1015625 ,  0.10546875,  0.109375  ,  0.11328125,\n",
        "         0.1171875 ,  0.12109375,  0.125     ,  0.12890625,  0.1328125 ,\n",
        "         0.13671875,  0.140625  ,  0.14453125,  0.1484375 ,  0.15234375,\n",
        "         0.15625   ,  0.16015625,  0.1640625 ,  0.16796875,  0.171875  ,\n",
        "         0.17578125,  0.1796875 ,  0.18359375,  0.1875    ,  0.19140625,\n",
        "         0.1953125 ,  0.19921875,  0.203125  ,  0.20703125,  0.2109375 ,\n",
        "         0.21484375,  0.21875   ,  0.22265625,  0.2265625 ,  0.23046875,\n",
        "         0.234375  ,  0.23828125,  0.2421875 ,  0.24609375,  0.25      ,\n",
        "         0.25390625,  0.2578125 ,  0.26171875,  0.265625  ,  0.26953125,\n",
        "         0.2734375 ,  0.27734375,  0.28125   ,  0.28515625,  0.2890625 ,\n",
        "         0.29296875,  0.296875  ,  0.30078125,  0.3046875 ,  0.30859375,\n",
        "         0.3125    ,  0.31640625,  0.3203125 ,  0.32421875,  0.328125  ,\n",
        "         0.33203125,  0.3359375 ,  0.33984375,  0.34375   ,  0.34765625,\n",
        "         0.3515625 ,  0.35546875,  0.359375  ,  0.36328125,  0.3671875 ,\n",
        "         0.37109375,  0.375     ,  0.37890625,  0.3828125 ,  0.38671875,\n",
        "         0.390625  ,  0.39453125,  0.3984375 ,  0.40234375,  0.40625   ,\n",
        "         0.41015625,  0.4140625 ,  0.41796875,  0.421875  ,  0.42578125,\n",
        "         0.4296875 ,  0.43359375,  0.4375    ,  0.44140625,  0.4453125 ,\n",
        "         0.44921875,  0.453125  ,  0.45703125,  0.4609375 ,  0.46484375,\n",
        "         0.46875   ,  0.47265625,  0.4765625 ,  0.48046875,  0.484375  ,\n",
        "         0.48828125,  0.4921875 ,  0.49609375,  0.5       ,  0.50390625,\n",
        "         0.5078125 ,  0.51171875,  0.515625  ,  0.51953125,  0.5234375 ,\n",
        "         0.52734375,  0.53125   ,  0.53515625,  0.5390625 ,  0.54296875,\n",
        "         0.546875  ,  0.55078125,  0.5546875 ,  0.55859375,  0.5625    ,\n",
        "         0.56640625,  0.5703125 ,  0.57421875,  0.578125  ,  0.58203125,\n",
        "         0.5859375 ,  0.58984375,  0.59375   ,  0.59765625,  0.6015625 ,\n",
        "         0.60546875,  0.609375  ,  0.61328125,  0.6171875 ,  0.62109375,\n",
        "         0.625     ,  0.62890625,  0.6328125 ,  0.63671875,  0.640625  ,\n",
        "         0.64453125,  0.6484375 ,  0.65234375,  0.65625   ,  0.66015625,\n",
        "         0.6640625 ,  0.66796875,  0.671875  ,  0.67578125,  0.6796875 ,\n",
        "         0.68359375,  0.6875    ,  0.69140625,  0.6953125 ,  0.69921875,\n",
        "         0.703125  ,  0.70703125,  0.7109375 ,  0.71484375,  0.71875   ,\n",
        "         0.72265625,  0.7265625 ,  0.73046875,  0.734375  ,  0.73828125,\n",
        "         0.7421875 ,  0.74609375,  0.75      ,  0.75390625,  0.7578125 ,\n",
        "         0.76171875,  0.765625  ,  0.76953125,  0.7734375 ,  0.77734375,\n",
        "         0.78125   ,  0.78515625,  0.7890625 ,  0.79296875,  0.796875  ,\n",
        "         0.80078125,  0.8046875 ,  0.80859375,  0.8125    ,  0.81640625,\n",
        "         0.8203125 ,  0.82421875,  0.828125  ,  0.83203125,  0.8359375 ,\n",
        "         0.83984375,  0.84375   ,  0.84765625,  0.8515625 ,  0.85546875,\n",
        "         0.859375  ,  0.86328125,  0.8671875 ,  0.87109375,  0.875     ,\n",
        "         0.87890625,  0.8828125 ,  0.88671875,  0.890625  ,  0.89453125,\n",
        "         0.8984375 ,  0.90234375,  0.90625   ,  0.91015625,  0.9140625 ,\n",
        "         0.91796875,  0.921875  ,  0.92578125,  0.9296875 ,  0.93359375,\n",
        "         0.9375    ,  0.94140625,  0.9453125 ,  0.94921875,  0.953125  ,\n",
        "         0.95703125,  0.9609375 ,  0.96484375,  0.96875   ,  0.97265625,\n",
        "         0.9765625 ,  0.98046875,  0.984375  ,  0.98828125,  0.9921875 ,\n",
        "         0.99609375,  1.        ]),\n",
        " <a list of 256 Patch objects>)"
       ],
       "metadata": {}
      },
      {
       "output_type": "display_data",
       "png": "[encoded data removed]",
       "text": [
        "<matplotlib.figure.Figure at 0x113419390>"
       ],
       "metadata": {}
      }
     ],
     "input": [
      "plt.hist(lum_img.flatten(), 256, range=(0., 1.), fc='r', ec='k')"
     ],
     "language": "python",
     "prompt_number": 79
    },
    {
     "cell_type": "code",
     "execution_count": null,
     "metadata": {},
     "outputs": [
      {
       "output_type": "display_data",
       "png": "[encoded data removed]",
       "text": [
        "<matplotlib.figure.Figure at 0x113b46890>"
       ],
       "metadata": {}
      }
     ],
     "input": [
      "from matplotlib import pyplot as plt\n",
      "\n",
      "class LineBuilder:\n",
      "    def __init__(self, line):\n",
      "        self.line = line\n",
      "        self.xs = list(line.get_xdata())\n",
      "        self.ys = list(line.get_ydata())\n",
      "        self.cid = line.figure.canvas.mpl_connect('button_press_event', self)\n",
      "\n",
      "    def __call__(self, event):\n",
      "        print 'click', event\n",
      "        if event.inaxes!=self.line.axes: return\n",
      "        self.xs.append(event.xdata)\n",
      "        self.ys.append(event.ydata)\n",
      "        self.line.set_data(self.xs, self.ys)\n",
      "        self.line.figure.canvas.draw()\n",
      "\n",
      "fig = plt.figure()\n",
      "ax = fig.add_subplot(111)\n",
      "ax.set_title('click to build line segments')\n",
      "line, = ax.plot([0], [0])  # empty line\n",
      "linebuilder = LineBuilder(line)\n",
      "\n",
      "plt.show()"
     ],
     "language": "python",
     "prompt_number": 80
    },
    {
     "cell_type": "code",
     "execution_count": null,
     "metadata": {},
     "outputs": [],
     "input": [
      ""
     ],
     "language": "python"
    }
   ]
  }
 ],
 "cells": [],
 "metadata": {
  "name": "",
  "signature": "sha256:6e80f7bff251126aef7524383dbb7cce297e9f3c9795b81185e1b93fdacd228c"
 },
 "nbformat": 3,
 "nbformat_minor": 0
}